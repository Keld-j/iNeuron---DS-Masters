{
 "cells": [
  {
   "cell_type": "markdown",
   "metadata": {},
   "source": [
    "## Question 1"
   ]
  },
  {
   "cell_type": "markdown",
   "metadata": {},
   "source": [
    "The following are values: “hello” , -87.8 , 6\n",
    "\n",
    "The following are operators: * , - , / , + \n",
    "\n",
    "Or to put it an other way: Operators are special symbols that tell Python that some sort of computation should be performed. "
   ]
  },
  {
   "cell_type": "markdown",
   "metadata": {},
   "source": [
    "## Question 2 - What is a the difference between string and variable?"
   ]
  },
  {
   "cell_type": "markdown",
   "metadata": {},
   "source": [
    "A 'variable' is something that holds a value that may change. In simplest terms, a variable is just a box that you can put stuff in. \n",
    "\n",
    "A 'string' is a list of characters in order. "
   ]
  },
  {
   "cell_type": "markdown",
   "metadata": {},
   "source": [
    "## Question 3 - Describe 3 different data types."
   ]
  },
  {
   "cell_type": "markdown",
   "metadata": {},
   "source": [
    "String: The 'text'-datatype of Python\n",
    "\n",
    "Int: The 'Integer'-datatype in Python\n",
    "\n",
    "Bool: The 'Boolean'-datatype in Python."
   ]
  },
  {
   "cell_type": "markdown",
   "metadata": {},
   "source": [
    "## Question 4 - What is an expression? What do all expressions do?"
   ]
  },
  {
   "cell_type": "markdown",
   "metadata": {},
   "source": [
    "An expression is a combination of operators and operands that is interpreted to produce some other value."
   ]
  },
  {
   "cell_type": "markdown",
   "metadata": {},
   "source": [
    "## Question 5 - What is the difference between an expression and a statement?"
   ]
  },
  {
   "cell_type": "markdown",
   "metadata": {},
   "source": [
    "An expression is used to combine values to create something \"new\".\n",
    "\n",
    "A statement is just a standalone unit and it does not create something \"new\"."
   ]
  },
  {
   "cell_type": "markdown",
   "metadata": {},
   "source": [
    "## Question 6 - What does the variable bacon contain after execution?"
   ]
  },
  {
   "cell_type": "markdown",
   "metadata": {},
   "source": [
    "What is the value of bacon after running this code?\n",
    "\n",
    "bacon = 22\n",
    "\n",
    "bacon +1\n",
    "\n",
    "In the first line of code we set bacon to 22. In the second line of code we look at the value of bacon and we add 1 to whatever the value was. NOTE: We do NOT change the variable bacon, so it is still set to 22."
   ]
  },
  {
   "cell_type": "markdown",
   "metadata": {},
   "source": [
    "## Question 7 - Adding strings"
   ]
  },
  {
   "cell_type": "markdown",
   "metadata": {},
   "source": [
    "We are given\n",
    "\n",
    "'spam' + 'spamspam'\n",
    "\n",
    "and\n",
    "\n",
    "'spam' * 3\n",
    "\n",
    "In the first option we want to add two strings. Python does this by concatenating the two strings, so the output will be 'spamspamspam'\n",
    "\n",
    "In the second option we want to multiply a string with an integer. Here we take the string and concatenate it with itself the number of times, so the output will be 'spamspamspam'\n"
   ]
  },
  {
   "cell_type": "markdown",
   "metadata": {},
   "source": [
    "## Question 8 - Why is 'eggs' a valid variable name, while 100 is not?"
   ]
  },
  {
   "cell_type": "markdown",
   "metadata": {},
   "source": [
    "In python there are certain rules that a valid variable name must follow. One of them is that a variable MUST start with a letter or an underscore _ . So 100 is not a valid variable name, but eggs is."
   ]
  },
  {
   "cell_type": "markdown",
   "metadata": {},
   "source": [
    "## Question 9 - Functions to get integer, floating-point number or string version of a value?"
   ]
  },
  {
   "cell_type": "markdown",
   "metadata": {},
   "source": [
    "In order to the integerpart of a number x we use the int(x) function.\n",
    "\n",
    "In order to get the floating-point of a number x we use the float(x) function\n",
    "\n",
    "In order to get the string version of a number x we use the str(x) function"
   ]
  },
  {
   "cell_type": "markdown",
   "metadata": {},
   "source": [
    "## Question 10 - 'I have eaten' + 99 + 'burritos.' Is wrong. Why? and how to fix it?"
   ]
  },
  {
   "cell_type": "markdown",
   "metadata": {},
   "source": [
    "Here we try to add an integer to a string and this gives us an error, because Python does not know what this means.\n",
    "\n",
    "In order to fix it, we have to change the \"99\" part so that python sees it as a string, so that it can concatinate the three strings.\n",
    "\n",
    "'I have eaten' + ' 99 ' + 'burritos.'\n",
    "\n",
    "'I have eaten ' + str(99) + ' burritos.'\n",
    "\n",
    "But please note, that we have to make sure that there is space around the 99 or else it looks bad!"
   ]
  }
 ],
 "metadata": {
  "kernelspec": {
   "display_name": "Python 3",
   "language": "python",
   "name": "python3"
  },
  "language_info": {
   "codemirror_mode": {
    "name": "ipython",
    "version": 3
   },
   "file_extension": ".py",
   "mimetype": "text/x-python",
   "name": "python",
   "nbconvert_exporter": "python",
   "pygments_lexer": "ipython3",
   "version": "3.7.4"
  }
 },
 "nbformat": 4,
 "nbformat_minor": 4
}
