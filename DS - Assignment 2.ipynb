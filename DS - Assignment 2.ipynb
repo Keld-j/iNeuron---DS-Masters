{
 "cells": [
  {
   "cell_type": "markdown",
   "metadata": {},
   "source": [
    "## Question 1 - 1.What are the two values of the Boolean data type? How do you write them?"
   ]
  },
  {
   "cell_type": "markdown",
   "metadata": {},
   "source": [
    "The Boolean data type can hold two values: True and False \n",
    "\n",
    "Boolean expressions use relational and logical operators and return either True or False.\n",
    "\n",
    "You write them as below:"
   ]
  },
  {
   "cell_type": "code",
   "execution_count": null,
   "metadata": {},
   "outputs": [],
   "source": [
    "x=True\n",
    "y=False\n",
    "\n",
    "print(x)\n",
    "print(y)\n",
    "type(x)\n"
   ]
  },
  {
   "cell_type": "markdown",
   "metadata": {
    "tags": []
   },
   "source": [
    "## Question 2 - What are the three different types of Boolean operators?"
   ]
  },
  {
   "cell_type": "markdown",
   "metadata": {},
   "source": [
    "The 3 different Boolean operators are: \"AND\", \"OR\" or \"NOT\"."
   ]
  },
  {
   "cell_type": "markdown",
   "metadata": {
    "tags": []
   },
   "source": [
    "## Question 3 - Make a list of each Boolean operator's truth tabel."
   ]
  },
  {
   "cell_type": "markdown",
   "metadata": {
    "tags": []
   },
   "source": [
    "### Truth table for AND operator (returns TRUE if BOTH operands are TRUE else returns False)\n",
    "True AND True is True\n",
    "\n",
    "True AND False is False\n",
    "\n",
    "False AND True is False\n",
    "\n",
    "False AND False is False\n",
    "\n",
    "### Truth Table for OR opeartor (returns TRUE if either operands is TRUE else returns False)\n",
    "True OR True is True\n",
    "\n",
    "True OR False is True\n",
    "\n",
    "False OR True is True\n",
    "\n",
    "False OR False is False\n",
    "### Truth table for NOT operator\n",
    "NOT True is False\n",
    "\n",
    "NOT False is True"
   ]
  },
  {
   "cell_type": "markdown",
   "metadata": {
    "tags": []
   },
   "source": [
    "## Question 4 - What are the values of the following expressions?"
   ]
  },
  {
   "cell_type": "markdown",
   "metadata": {},
   "source": [
    "(5>4) AND (3 == 5) - FALSE (since AND requires both operands to be True in order to return TRUE)\n",
    "\n",
    "not (5 > 4) - FALSE (since 5 is bigger than 4 the last statement is TRUE and NOT negates the statement.\n",
    "\n",
    "(5 > 4) or (3 == 5) - TRUE (since 5 is bigger than 4 and the statement is an OR statement)\n",
    "\n",
    "not ((5 > 4) or (3 == 5)) - FALSE (since it negates the previous statement)\n",
    "\n",
    "(True and True) and (True == False) - FALSE (since last operand is FALSE)\n",
    "\n",
    "(not False) or (not True) - TRUE (since first statement is TRUE)"
   ]
  },
  {
   "cell_type": "markdown",
   "metadata": {},
   "source": [
    "## Question 5 - What are the six comparison operators?"
   ]
  },
  {
   "cell_type": "markdown",
   "metadata": {},
   "source": [
    "The six comparisons are:\n",
    "\n",
    "\"equal to\" written as ==\n",
    "\n",
    "\"not equal to\" written as != \n",
    "\n",
    "\"greater than\" written as > \n",
    "\n",
    "\"greater than or equal to\" written as >=\n",
    "\n",
    "\"less than\" written as <\n",
    "\n",
    "\"less than or equal to\" written as <="
   ]
  },
  {
   "cell_type": "markdown",
   "metadata": {},
   "source": [
    "## Question 6 - How do you tell the difference between the equal to and assignment operators?Describe a condition and when you would use one."
   ]
  },
  {
   "cell_type": "markdown",
   "metadata": {},
   "source": [
    "The \"equal to\" operator consists of 2 equal signs as opposed to the assignment operator, which consists of just 1."
   ]
  },
  {
   "cell_type": "code",
   "execution_count": null,
   "metadata": {},
   "outputs": [],
   "source": [
    "str1='iNeuron' ## here = is used as an assignment operator\n",
    "str2='Data Science'\n",
    "str1==str2 ## here == is used as \"equal to\" operator"
   ]
  },
  {
   "cell_type": "markdown",
   "metadata": {},
   "source": [
    "## Question 7 - Identify 3 blocks in the code"
   ]
  },
  {
   "cell_type": "code",
   "execution_count": null,
   "metadata": {},
   "outputs": [],
   "source": [
    "spam = 1\n",
    "if spam == 10:\n",
    "    print('eggs') ## 1st block\n",
    "    if spam > 5:\n",
    "         print('bacon') ## 2nd block\n",
    "else:\n",
    "    print('ham') ### 3rd block\n",
    "    print('spam')\n",
    "    print('spam')\n"
   ]
  },
  {
   "cell_type": "markdown",
   "metadata": {
    "tags": []
   },
   "source": [
    "## Question 8 - Code that returns Hello if spam = 1, Howdy if spam = 2 and Greetings! in all other cases"
   ]
  },
  {
   "cell_type": "code",
   "execution_count": null,
   "metadata": {},
   "outputs": [],
   "source": [
    "spam = int(input(\"Enter the value of spam-:\"))\n",
    "if spam == 1:\n",
    "    print('Hello')\n",
    "elif spam == 2:\n",
    "    print('Howdy')\n",
    "else:\n",
    "    print('Greetings!')"
   ]
  },
  {
   "cell_type": "markdown",
   "metadata": {},
   "source": [
    "Please note, that we used the int() function to make sure that Python knows that what we input is an integer."
   ]
  },
  {
   "cell_type": "markdown",
   "metadata": {},
   "source": [
    "## Question 9 - Endless loop - what to do?"
   ]
  },
  {
   "cell_type": "markdown",
   "metadata": {},
   "source": [
    "If a program runs in an endless loop you can press CTRL+C to stop the program."
   ]
  },
  {
   "cell_type": "markdown",
   "metadata": {},
   "source": [
    "## Question 10 - Difference between BREAK and Continue"
   ]
  },
  {
   "cell_type": "markdown",
   "metadata": {},
   "source": [
    "The main difference between break and continue is that break is used for immediate termination of loop. \n",
    "\n",
    "'continue' terminate the current iteration and resumes the control to the next iteration of the loop."
   ]
  },
  {
   "cell_type": "markdown",
   "metadata": {},
   "source": [
    "## Question 11 - What is the difference between range(10), range(0,10) and range(0,10,1)"
   ]
  },
  {
   "cell_type": "markdown",
   "metadata": {},
   "source": [
    "The syntax for range is range(start, stop[,step])\n",
    "\n",
    "If you do not specify a start number then 0 is automatically selected."
   ]
  },
  {
   "cell_type": "markdown",
   "metadata": {},
   "source": [
    "## Question 12 - Program to print numbers 1-10 as a for loop and a while loop"
   ]
  },
  {
   "cell_type": "code",
   "execution_count": null,
   "metadata": {},
   "outputs": [],
   "source": [
    "## with for loop\n",
    "for i in range(10):\n",
    "    print(i+1)\n",
    "\n",
    "## with while loop\n",
    "j= 1\n",
    "while(j<=10):\n",
    "    print(j)\n",
    "    j=j+1"
   ]
  },
  {
   "cell_type": "markdown",
   "metadata": {},
   "source": [
    "Please note, that in the while loop we have to make sure to REMEMBER to increase j or else we would end in an infinite loop."
   ]
  },
  {
   "cell_type": "markdown",
   "metadata": {},
   "source": [
    "## Question 13 - If you had a function named bacon() inside a module named spam, how would you call it after importing spam?"
   ]
  },
  {
   "cell_type": "markdown",
   "metadata": {},
   "source": [
    "In order to call the function bacon() one would have to tell python where to find the function bacon() so one would write spam.bacon()"
   ]
  },
  {
   "cell_type": "code",
   "execution_count": null,
   "metadata": {},
   "outputs": [],
   "source": []
  }
 ],
 "metadata": {
  "kernelspec": {
   "display_name": "Python 3 (ipykernel)",
   "language": "python",
   "name": "python3"
  },
  "language_info": {
   "codemirror_mode": {
    "name": "ipython",
    "version": 3
   },
   "file_extension": ".py",
   "mimetype": "text/x-python",
   "name": "python",
   "nbconvert_exporter": "python",
   "pygments_lexer": "ipython3",
   "version": "3.7.4"
  }
 },
 "nbformat": 4,
 "nbformat_minor": 4
}
