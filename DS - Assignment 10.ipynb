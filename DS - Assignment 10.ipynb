{
 "cells": [
  {
   "cell_type": "markdown",
   "metadata": {},
   "source": [
    "## Question 1 - How do you distinguish between shutil.copy() and shutil.copytree()"
   ]
  },
  {
   "cell_type": "markdown",
   "metadata": {},
   "source": [
    "The command shutil.copy() will copy a single file while the command shutil.copytree() will copy an entire folder and every folder and file contained in it. "
   ]
  },
  {
   "cell_type": "markdown",
   "metadata": {
    "tags": []
   },
   "source": [
    "## Question 2 - What function is used to rename a file?"
   ]
  },
  {
   "cell_type": "markdown",
   "metadata": {},
   "source": [
    "shutil has a function called move that does precisely what the function name implies - it moves files or directories from one location to another. So you can move the file \\'a.txt\\' to \\'b.txt\\' to rename it."
   ]
  },
  {
   "cell_type": "markdown",
   "metadata": {
    "tags": []
   },
   "source": [
    "## Question 3 - What is the difference between the delete functions in the send2trash and shutil modules?"
   ]
  },
  {
   "cell_type": "markdown",
   "metadata": {
    "tags": []
   },
   "source": [
    "shutil has a function called delete and a function called send2trash. The send2trash function does not delete the file, but instead it sends the file to the Trash or recycle bin on your computer. This is a very usefull feature to have in case your program removes an unexpected file since you can then recover it through the trash or recycle bin on the computer. The delete function on the other hand deletes files with no option to recover them."
   ]
  },
  {
   "cell_type": "markdown",
   "metadata": {
    "tags": []
   },
   "source": [
    "## Question 4 - ZipFile objects have a close() method just like File objects’ close() method. What ZipFile method is equivalent to File objects’ open() method?\n",
    "\n"
   ]
  },
  {
   "cell_type": "markdown",
   "metadata": {},
   "source": [
    "The zipfile.ZipFile() function is equivalent to the open() function. The function takes the filename as the first argument and the second argument is the mode used to open the .zip file."
   ]
  },
  {
   "cell_type": "markdown",
   "metadata": {},
   "source": [
    "## Question 5 - Create a programme that searches a folder tree for files with a certain file extension (such as .pdf or .jpg). Copy these files from whatever location they are in to a new folder.\n"
   ]
  },
  {
   "cell_type": "markdown",
   "metadata": {},
   "source": [
    "First we import os and shutil.\n",
    "\n",
    "We then create the extensions that we want to copy from one folder to the other. By doing this, we make sure that we only have the extensions defined one place, so we do not need to remember to change multiple places later, if we for example decide to also copy .txt files.\n",
    "\n",
    "The code is made up of multiple nested loops:\n",
    "\n",
    "The first loop goes through all the folders.\n",
    "\n",
    "The second loop loops through all the files in the folders\n",
    "\n",
    "The third loop goes through the extensions and checks to see if the file has a  extension that we want to copy. If it does, then we copy the file else we go on to the next file."
   ]
  },
  {
   "cell_type": "code",
   "execution_count": 11,
   "metadata": {},
   "outputs": [
    {
     "name": "stdout",
     "output_type": "stream",
     "text": [
      "Looking in source for files with extension(s):  .pdf, .jpg\n",
      "Copying source\\7f59d20d9a00d4c93e3d6a7e9973f3462e7e.pdf to destination\n",
      "Copying source\\A-Guide-to-Season-Ticket-Holder-Management-.pdf to destination\n"
     ]
    }
   ],
   "source": [
    "import os, shutil\n",
    "\n",
    "extensions = ['.pdf', '.jpg']\n",
    "OrigFolder = 'source'\n",
    "DestFolder = 'destination'\n",
    "\n",
    "\n",
    "def selectiveCopy(OrigFolder, extensions, DestFolder):\n",
    "    folder = os.path.abspath(OrigFolder)\n",
    "    destFolder = os.path.abspath(DestFolder)\n",
    "    print('Looking in', OrigFolder, 'for files with extension(s): ', ', '.join(extensions))\n",
    "    for foldername, subfolders, filenames in os.walk(OrigFolder):\n",
    "        for filename in filenames:\n",
    "            name, extension = os.path.splitext(filename)\n",
    "            if extension in extensions:\n",
    "                fileAbsPath = foldername + os.path.sep + filename\n",
    "                print('Copying', fileAbsPath, 'to', DestFolder)\n",
    "                shutil.copy(fileAbsPath, DestFolder)\n",
    "                \n",
    "selectiveCopy(OrigFolder, extensions, DestFolder)"
   ]
  },
  {
   "cell_type": "code",
   "execution_count": null,
   "metadata": {},
   "outputs": [],
   "source": []
  }
 ],
 "metadata": {
  "kernelspec": {
   "display_name": "Python 3 (ipykernel)",
   "language": "python",
   "name": "python3"
  },
  "language_info": {
   "codemirror_mode": {
    "name": "ipython",
    "version": 3
   },
   "file_extension": ".py",
   "mimetype": "text/x-python",
   "name": "python",
   "nbconvert_exporter": "python",
   "pygments_lexer": "ipython3",
   "version": "3.7.4"
  }
 },
 "nbformat": 4,
 "nbformat_minor": 4
}
