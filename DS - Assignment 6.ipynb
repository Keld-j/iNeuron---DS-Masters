{
 "cells": [
  {
   "cell_type": "markdown",
   "metadata": {},
   "source": [
    "## Question 1 - What are escape characters, and how do you use them?"
   ]
  },
  {
   "cell_type": "markdown",
   "metadata": {},
   "source": [
    "An escape character is a character that tells Python to do something differtly as to what it would normally do, when it sees the next character in a character sequence. In Python the backspace \\ is used as the escape charater. In the code below the second letter 'n' does not get printed, but instead tells Python to insert a new-line. "
   ]
  },
  {
   "cell_type": "code",
   "execution_count": 35,
   "metadata": {},
   "outputs": [
    {
     "name": "stdout",
     "output_type": "stream",
     "text": [
      "This is a what happens if you type a normal backslash followed by the letter n \n",
      " this is fun\n"
     ]
    }
   ],
   "source": [
    "a=print('This is a what happens if you type a normal backslash followed by the letter n \\n this is fun') \n"
   ]
  },
  {
   "cell_type": "markdown",
   "metadata": {
    "tags": []
   },
   "source": [
    "## Question 2 - What do the escape characters n and t stand for?"
   ]
  },
  {
   "cell_type": "markdown",
   "metadata": {},
   "source": [
    "As seen in Question 1 there are different outcomes of various characters:"
   ]
  },
  {
   "cell_type": "code",
   "execution_count": 34,
   "metadata": {},
   "outputs": [
    {
     "name": "stdout",
     "output_type": "stream",
     "text": [
      "The espace charater n inserts a new-line \n",
      " and the espace charater t inserts a \t tab\n"
     ]
    }
   ],
   "source": [
    "b=print('The espace charater n inserts a new-line \\n and the espace charater t inserts a \\t tab')"
   ]
  },
  {
   "cell_type": "markdown",
   "metadata": {
    "tags": []
   },
   "source": [
    "## Question 3 - What is the way to include backslash characters in a string?"
   ]
  },
  {
   "cell_type": "markdown",
   "metadata": {
    "tags": []
   },
   "source": [
    "In order to use the backslash character, we have to tell Python to \"do something special with the next character and the next character is the backslash:"
   ]
  },
  {
   "cell_type": "code",
   "execution_count": 36,
   "metadata": {},
   "outputs": [
    {
     "name": "stdout",
     "output_type": "stream",
     "text": [
      "If you want to print the \\ you have to write two backslash\n"
     ]
    }
   ],
   "source": [
    "c=print('If you want to print the \\\\ you have to write two backslash')"
   ]
  },
  {
   "cell_type": "markdown",
   "metadata": {
    "tags": []
   },
   "source": [
    "## Question 4 - The string\"Howl's Moving Castle\" is a correct value. Why isn't the single quote character in the word Howl's not escaped a problem?"
   ]
  },
  {
   "cell_type": "markdown",
   "metadata": {},
   "source": [
    "The string \"The string\"Howl's Moving Castle\" is correct because it gets started with a \" and ends with a \". The ' is just viewed as any other normal character.\n"
   ]
  },
  {
   "cell_type": "markdown",
   "metadata": {},
   "source": [
    "## Question 5 - How do you write a string of newlines if you don't want to use the n character?"
   ]
  },
  {
   "cell_type": "markdown",
   "metadata": {},
   "source": [
    "If you do not want to use newlines, but do not want to use the n character one can use \"\"\" in the front and end of the string:"
   ]
  },
  {
   "cell_type": "code",
   "execution_count": 38,
   "metadata": {},
   "outputs": [
    {
     "name": "stdout",
     "output_type": "stream",
     "text": [
      "This\n",
      "is\n",
      "fun \n"
     ]
    }
   ],
   "source": [
    "spam =\"\"\"This\n",
    "is\n",
    "fun \"\"\"\n",
    "print(spam);"
   ]
  },
  {
   "cell_type": "markdown",
   "metadata": {},
   "source": [
    "## Question 6 - What are the values of the given expressions? 'Hello, world!'[1] 'Hello, world!'[0:5] 'Hello, world!'[:5] 'Hello, world!'[3:]"
   ]
  },
  {
   "cell_type": "markdown",
   "metadata": {},
   "source": [
    "The expressions are slicing operations. 'Hello, world!' is considered a list of characters which start indexing at 0. So 'Hello, world!'[1] returns the character at position 1 - so it returns 'e'. The syntax [a:b] means that we slice from (including) a to b (not included)."
   ]
  },
  {
   "cell_type": "code",
   "execution_count": 41,
   "metadata": {},
   "outputs": [
    {
     "name": "stdout",
     "output_type": "stream",
     "text": [
      "e\n",
      "Hello\n",
      "Hello\n",
      "lo, world!\n"
     ]
    }
   ],
   "source": [
    "print('Hello, world!'[1])\n",
    "print('Hello, world!'[0:5])\n",
    "print('Hello, world!'[:5])\n",
    "print('Hello, world!'[3:])"
   ]
  },
  {
   "cell_type": "markdown",
   "metadata": {},
   "source": [
    "## Question 7 - What are the values of the following expressions? 'Hello'.upper() 'Hello'.upper().isupper() 'Hello';.upper().lower()"
   ]
  },
  {
   "cell_type": "markdown",
   "metadata": {},
   "source": [
    "The .upper() command converts the string to all uppercase letters, while .lower() converts to lowercase. the .isupper() returns True, if all characters are Uppercase."
   ]
  },
  {
   "cell_type": "code",
   "execution_count": 42,
   "metadata": {},
   "outputs": [
    {
     "name": "stdout",
     "output_type": "stream",
     "text": [
      "HELLO\n",
      "True\n",
      "hello\n"
     ]
    }
   ],
   "source": [
    "print('Hello'.upper())\n",
    "print('Hello'.upper().isupper())\n",
    "print('Hello'.upper().lower())"
   ]
  },
  {
   "cell_type": "markdown",
   "metadata": {
    "tags": []
   },
   "source": [
    "## Question 8 - What are the values of the following expressions? 'Remember, remember, the fifth of July.'.split() '-'.join('There can only one.'.split())"
   ]
  },
  {
   "cell_type": "markdown",
   "metadata": {},
   "source": [
    "The .split() command splits up a string into each of its components.\n",
    "The .join() commands uses whatever is infront of it to combine whatever is inside of the brackets."
   ]
  },
  {
   "cell_type": "code",
   "execution_count": 51,
   "metadata": {},
   "outputs": [
    {
     "name": "stdout",
     "output_type": "stream",
     "text": [
      "['Remember,', 'remember,', 'the', 'fifth', 'of', 'July.']\n",
      "There-can-only-one.\n"
     ]
    }
   ],
   "source": [
    "a='Remember, remember, the fifth of July.'.split()\n",
    "b='-'.join('There can only one.'.split())\n",
    "print(a)\n",
    "print(b)"
   ]
  },
  {
   "cell_type": "markdown",
   "metadata": {},
   "source": [
    "## Question 9 - What are the methods for right-justifying, left-justifying, and centering a string?"
   ]
  },
  {
   "cell_type": "markdown",
   "metadata": {},
   "source": [
    "The rjust() and ljust() string methods return a padded version of the string they are called on. For example you might want to add spaces in order to be able to to justify the text. The center() string method works like ljust() and rjust() but centers the text rather than justifying it to the left or right. Below are implementations of the commands."
   ]
  },
  {
   "cell_type": "code",
   "execution_count": 68,
   "metadata": {},
   "outputs": [
    {
     "name": "stdout",
     "output_type": "stream",
     "text": [
      "I love iNeuron\n",
      "I love iNeuron--------------------------\n",
      "                          I love iNeuron\n",
      "             I love iNeuron             \n"
     ]
    }
   ],
   "source": [
    "d = \"I love iNeuron\"\n",
    "print(d)\n",
    "print(d.ljust(40, '-'))\n",
    "print(d.rjust(40))\n",
    "print(d.center(40, ' '))"
   ]
  },
  {
   "cell_type": "markdown",
   "metadata": {},
   "source": [
    "## Question 10 - What is the best way to remove whitespace characters from the start or end?"
   ]
  },
  {
   "cell_type": "markdown",
   "metadata": {},
   "source": [
    "If you want to remove whitepsace characters from the start or the end of a string you can use the .strip() method. If you want to only remove from the left, then the method is .lstrip() and it is .rstrip() if you want to remove from the right. These should show "
   ]
  },
  {
   "cell_type": "code",
   "execution_count": 70,
   "metadata": {},
   "outputs": [
    {
     "name": "stdout",
     "output_type": "stream",
     "text": [
      "      I love iNeuron         \n",
      "I love iNeuron\n",
      "I love iNeuron         \n",
      "      I love iNeuron\n"
     ]
    }
   ],
   "source": [
    "d = \"      I love iNeuron         \"\n",
    "print(d)\n",
    "print(d.strip())\n",
    "print(d.lstrip())\n",
    "print(d.rstrip());"
   ]
  },
  {
   "cell_type": "code",
   "execution_count": null,
   "metadata": {},
   "outputs": [],
   "source": []
  }
 ],
 "metadata": {
  "kernelspec": {
   "display_name": "Python 3 (ipykernel)",
   "language": "python",
   "name": "python3"
  },
  "language_info": {
   "codemirror_mode": {
    "name": "ipython",
    "version": 3
   },
   "file_extension": ".py",
   "mimetype": "text/x-python",
   "name": "python",
   "nbconvert_exporter": "python",
   "pygments_lexer": "ipython3",
   "version": "3.7.4"
  }
 },
 "nbformat": 4,
 "nbformat_minor": 4
}
