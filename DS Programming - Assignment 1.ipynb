{
 "cells": [
  {
   "cell_type": "code",
   "execution_count": null,
   "metadata": {},
   "outputs": [],
   "source": [
    "Write a Python program to print \"Hello Python\";?\n",
    "\n",
    "print(\"Hello Python\")\n",
    "Hello Python\n",
    "Write a Python program to do arithmetical operations addition and division.?\n",
    "\n",
    "a = 100\n",
    "b = 50 \n",
    "d = a+b\n",
    "e = a/b\n",
    "print(\"The sum of a and b is \",d , \" The division of a and b is\", e )\n",
    "The sum of a and b is  150  The division of a and b is 2.0\n",
    "Write a Python program to find the area of a triangle?\n",
    "\n",
    "base = float(input(\"Enter the value for base of triangle=\"))\n",
    "height = float(input(\"Enter the value for height of the triangle=\"))\n",
    "area = 1/2*base*height\n",
    "print(\"The area of triangle is\", area)\n",
    "Enter the value for base of triangle=23.5\n",
    "Enter the value for height of the triangle=34\n",
    "The area of triangle is 399.5\n",
    "Write a Python program to swap two variables?\n",
    "\n",
    "first = int(input(\"Enter the first  number=\"))\n",
    "second =int(input(\"Enter the second  number=\"))\n",
    "temp = first\n",
    "first = second\n",
    "second = temp\n",
    "print (\"The swapped values are the  \",first , \"and\" ,second)\n",
    "Enter the first  number=6\n",
    "Enter the second  number=7\n",
    "The swapped values are the   7 and 6\n",
    "Write a Python program to generate a random number?\n",
    "\n",
    "import random\n",
    "random.randint(0,100)"
   ]
  },
  {
   "cell_type": "markdown",
   "metadata": {
    "tags": []
   },
   "source": [
    "## Question 1 - Write a program to print \"Hello Python\""
   ]
  },
  {
   "cell_type": "code",
   "execution_count": 7,
   "metadata": {},
   "outputs": [
    {
     "name": "stdout",
     "output_type": "stream",
     "text": [
      "Hello Python\n"
     ]
    }
   ],
   "source": [
    "print(\"Hello Python\");"
   ]
  },
  {
   "cell_type": "markdown",
   "metadata": {
    "tags": []
   },
   "source": [
    "## Question 2 - Write a Python program to do arithmetical operations addition and division."
   ]
  },
  {
   "cell_type": "code",
   "execution_count": 15,
   "metadata": {},
   "outputs": [
    {
     "name": "stdin",
     "output_type": "stream",
     "text": [
      "Enter first number:  1\n",
      "Enter second number:  1\n"
     ]
    },
    {
     "name": "stdout",
     "output_type": "stream",
     "text": [
      "The sum of 1 and 1 is 2.0\n",
      "The division of 1 by 1 is 1.0\n"
     ]
    }
   ],
   "source": [
    "# Store input numbers\n",
    "num1 = input('Enter first number: ')\n",
    "num2 = input('Enter second number: ')\n",
    "\n",
    "# Add two numbers\n",
    "sum = float(num1) + float(num2)\n",
    "divi = float(num1) / float(num2)\n",
    "\n",
    "# Display the sum\n",
    "print('The sum of {0} and {1} is {2}'.format(num1, num2, sum))\n",
    "print('The division of {0} by {1} is {2}'.format(num1, num2, divi))"
   ]
  },
  {
   "cell_type": "markdown",
   "metadata": {},
   "source": [
    "## Question 3 - Write a program to find the area of a triangle"
   ]
  },
  {
   "cell_type": "markdown",
   "metadata": {},
   "source": [
    "There are quite a few different ways to calculate the area of a triangle given various imputs. For simplicity here we assume, that the height and the base of a triangle is known!"
   ]
  },
  {
   "cell_type": "code",
   "execution_count": 18,
   "metadata": {},
   "outputs": [
    {
     "name": "stdin",
     "output_type": "stream",
     "text": [
      "Enter the length of the base: 15\n",
      "Enter the height of the triangle: 15\n"
     ]
    },
    {
     "name": "stdout",
     "output_type": "stream",
     "text": [
      "The area of triangle is 112.5\n"
     ]
    }
   ],
   "source": [
    "base = float(input(\"Enter the length of the base:\"))\n",
    "height = float(input(\"Enter the height of the triangle:\"))\n",
    "area = 1/2*base*height\n",
    "print(\"The area of triangle is\", area)"
   ]
  },
  {
   "cell_type": "markdown",
   "metadata": {},
   "source": [
    "## Question 4 - Write a program to swap two variables"
   ]
  },
  {
   "cell_type": "code",
   "execution_count": 24,
   "metadata": {},
   "outputs": [
    {
     "name": "stdin",
     "output_type": "stream",
     "text": [
      "Enter the first variable: fisk\n",
      "Enter the second variable: 2\n"
     ]
    },
    {
     "name": "stdout",
     "output_type": "stream",
     "text": [
      "The swapped values are 2 and fisk\n"
     ]
    }
   ],
   "source": [
    "first = input(\"Enter the first variable:\")\n",
    "second = input(\"Enter the second variable:\")\n",
    "temp = first\n",
    "first = second\n",
    "second = temp\n",
    "print (\"The swapped values are\",first , \"and\" ,second)"
   ]
  },
  {
   "cell_type": "markdown",
   "metadata": {},
   "source": [
    "## Question 5 - Write a program to generate a random number"
   ]
  },
  {
   "cell_type": "markdown",
   "metadata": {},
   "source": [
    "In python there is a function called random that we will do the actual generating for us:"
   ]
  },
  {
   "cell_type": "code",
   "execution_count": 26,
   "metadata": {},
   "outputs": [
    {
     "data": {
      "text/plain": [
       "6"
      ]
     },
     "execution_count": 26,
     "metadata": {},
     "output_type": "execute_result"
    }
   ],
   "source": [
    "import random\n",
    "random.randint(0,10)"
   ]
  }
 ],
 "metadata": {
  "kernelspec": {
   "display_name": "Python 3 (ipykernel)",
   "language": "python",
   "name": "python3"
  },
  "language_info": {
   "codemirror_mode": {
    "name": "ipython",
    "version": 3
   },
   "file_extension": ".py",
   "mimetype": "text/x-python",
   "name": "python",
   "nbconvert_exporter": "python",
   "pygments_lexer": "ipython3",
   "version": "3.7.4"
  }
 },
 "nbformat": 4,
 "nbformat_minor": 4
}
